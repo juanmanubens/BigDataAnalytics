{
 "cells": [
  {
   "cell_type": "markdown",
   "metadata": {},
   "source": [
    "# CIS 545 Homework 2: Graphs"
   ]
  },
  {
   "cell_type": "code",
   "execution_count": 1,
   "metadata": {},
   "outputs": [],
   "source": [
    "# Execute this once, the first time you run\n",
    "#!pip install networkx\n",
    "\n",
    "# Disable Python warning messages - you should probably only run this before submission\n",
    "\n",
    "import warnings\n",
    "warnings.filterwarnings('ignore')"
   ]
  },
  {
   "cell_type": "markdown",
   "metadata": {},
   "source": [
    "## Step 2.1 Spark Setup"
   ]
  },
  {
   "cell_type": "code",
   "execution_count": 2,
   "metadata": {},
   "outputs": [],
   "source": [
    "# TODO: Connect to Spark as per Step 2.1\n",
    "from pyspark.sql import SparkSession\n",
    "from pyspark.sql.types import *\n",
    "import pyspark.sql.functions as F\n",
    "\n",
    "spark = SparkSession.builder.appName('Graphs-HW2').getOrCreate()"
   ]
  },
  {
   "cell_type": "code",
   "execution_count": 3,
   "metadata": {},
   "outputs": [],
   "source": [
    "# Load some dummy data, which should be overwritten in Step 2.2\n",
    "\n",
    "answers_sdf = spark.createDataFrame([{'from_node': 123, 'to_node': 456},\\\n",
    "                                    {'from_node': 456, 'to_node': 789},\n",
    "                                    {'from_node': 456, 'to_node': 890}])\n",
    "comments_answers_sdf = spark.createDataFrame([{'from_node': 123, 'to_node': 456}])\n",
    "comments_questions_sdf = spark.createDataFrame([{'from_node': 123, 'to_node': 456}])\n",
    "\n",
    "graph_sdf = spark.createDataFrame([{'from_node': 123, 'to_node': 456}])"
   ]
  },
  {
   "cell_type": "markdown",
   "metadata": {},
   "source": [
    "## Step 2.2 Loading"
   ]
  },
  {
   "cell_type": "code",
   "execution_count": 4,
   "metadata": {},
   "outputs": [],
   "source": [
    "# TODO: load data as per Step 2.2\n",
    "\n",
    "# Read lines from the text file\n",
    "s, txt = 'sx-stackoverflow-', '.txt'\n",
    "a2q, c2a, c2q = s + 'a2q' + txt, s + 'c2a' + txt, s + 'c2q' + txt\n",
    "\n",
    "answers_sdf = spark.read.load(a2q, format=\"text\")\n",
    "comments_answers_sdf = spark.read.load(c2a, format=\"text\")\n",
    "comments_questions_sdf  = spark.read.load(c2q, format=\"text\")"
   ]
  },
  {
   "cell_type": "markdown",
   "metadata": {},
   "source": [
    "## Step 2.2 Results"
   ]
  },
  {
   "cell_type": "code",
   "execution_count": 5,
   "metadata": {},
   "outputs": [
    {
     "data": {
      "text/plain": [
       "17823525"
      ]
     },
     "execution_count": 5,
     "metadata": {},
     "output_type": "execute_result"
    }
   ],
   "source": [
    "answers_sdf.count()"
   ]
  },
  {
   "cell_type": "code",
   "execution_count": 6,
   "metadata": {},
   "outputs": [
    {
     "name": "stdout",
     "output_type": "stream",
     "text": [
      "+----------------+\n",
      "|           value|\n",
      "+----------------+\n",
      "|  9 8 1217567877|\n",
      "|  1 1 1217573801|\n",
      "| 13 1 1217606247|\n",
      "| 17 1 1217617639|\n",
      "| 48 2 1217618182|\n",
      "| 17 1 1217618239|\n",
      "| 19 9 1217618357|\n",
      "|13 23 1217618560|\n",
      "|13 11 1217618799|\n",
      "|23 23 1217619360|\n",
      "|35 33 1217620542|\n",
      "|39 33 1217620597|\n",
      "|43 22 1217620971|\n",
      "|17 32 1217621272|\n",
      "|39 40 1217621416|\n",
      "|37 40 1217621670|\n",
      "|45 45 1217621917|\n",
      "|17 17 1217622124|\n",
      "|49 13 1217623079|\n",
      "|13 23 1217623216|\n",
      "+----------------+\n",
      "only showing top 20 rows\n",
      "\n"
     ]
    }
   ],
   "source": [
    "answers_sdf.show()"
   ]
  },
  {
   "cell_type": "code",
   "execution_count": 7,
   "metadata": {},
   "outputs": [
    {
     "name": "stdout",
     "output_type": "stream",
     "text": [
      "root\n",
      " |-- value: string (nullable = true)\n",
      "\n"
     ]
    }
   ],
   "source": [
    "answers_sdf.printSchema()"
   ]
  },
  {
   "cell_type": "code",
   "execution_count": 8,
   "metadata": {},
   "outputs": [
    {
     "data": {
      "text/plain": [
       "25405374"
      ]
     },
     "execution_count": 8,
     "metadata": {},
     "output_type": "execute_result"
    }
   ],
   "source": [
    "comments_answers_sdf.count()"
   ]
  },
  {
   "cell_type": "code",
   "execution_count": 9,
   "metadata": {},
   "outputs": [
    {
     "name": "stdout",
     "output_type": "stream",
     "text": [
      "+--------------------+\n",
      "|               value|\n",
      "+--------------------+\n",
      "|     1 91 1220713630|\n",
      "|     3 91 1220713792|\n",
      "|  380 350 1220715736|\n",
      "|4642 2257 1220734307|\n",
      "|4642 1324220 1220...|\n",
      "|2495 4285 1220736640|\n",
      "|4642 4893 1220737355|\n",
      "|2515 4903 1220738560|\n",
      "|2515 4893 1220739071|\n",
      "|  199 199 1220741079|\n",
      "+--------------------+\n",
      "only showing top 10 rows\n",
      "\n"
     ]
    }
   ],
   "source": [
    "comments_answers_sdf.show(10)"
   ]
  },
  {
   "cell_type": "code",
   "execution_count": 10,
   "metadata": {},
   "outputs": [
    {
     "name": "stdout",
     "output_type": "stream",
     "text": [
      "root\n",
      " |-- value: string (nullable = true)\n",
      "\n"
     ]
    }
   ],
   "source": [
    "comments_answers_sdf.printSchema()"
   ]
  },
  {
   "cell_type": "code",
   "execution_count": 11,
   "metadata": {},
   "outputs": [
    {
     "data": {
      "text/plain": [
       "20268151"
      ]
     },
     "execution_count": 11,
     "metadata": {},
     "output_type": "execute_result"
    }
   ],
   "source": [
    "comments_questions_sdf.count()"
   ]
  },
  {
   "cell_type": "code",
   "execution_count": 12,
   "metadata": {},
   "outputs": [
    {
     "name": "stdout",
     "output_type": "stream",
     "text": [
      "+--------------------+\n",
      "|               value|\n",
      "+--------------------+\n",
      "|4550 4550 1220729190|\n",
      "|  242 184 1220733503|\n",
      "|4213 4946 1220768149|\n",
      "|    91 91 1220768295|\n",
      "|2658 1874 1220771891|\n",
      "|4035 1874 1220773037|\n",
      "|2257 4489 1220802041|\n",
      "|  577 577 1220834891|\n",
      "|4489 4489 1220853536|\n",
      "| 828 2783 1220854143|\n",
      "+--------------------+\n",
      "only showing top 10 rows\n",
      "\n"
     ]
    }
   ],
   "source": [
    "comments_questions_sdf.show(10)"
   ]
  },
  {
   "cell_type": "code",
   "execution_count": 13,
   "metadata": {},
   "outputs": [
    {
     "name": "stdout",
     "output_type": "stream",
     "text": [
      "root\n",
      " |-- value: string (nullable = true)\n",
      "\n"
     ]
    }
   ],
   "source": [
    "comments_questions_sdf.printSchema()"
   ]
  },
  {
   "cell_type": "markdown",
   "metadata": {},
   "source": [
    "## Step 2.3"
   ]
  },
  {
   "cell_type": "code",
   "execution_count": 14,
   "metadata": {},
   "outputs": [],
   "source": [
    "# TODO: wrangling work in Step 2.3.  Add as many Cells as you need\n",
    "\n",
    "# Create temporary views to enable SQL queries\n",
    "answers_sdf.createOrReplaceTempView(\"answers_sdf\")\n",
    "comments_answers_sdf.createOrReplaceTempView(\"comments_answers_sdf\")\n",
    "comments_questions_sdf.createOrReplaceTempView(\"comments_questions_sdf\")\n",
    "\n",
    "# Split and cast columns\n",
    "answers_sdf = answers_sdf.select(\n",
    "    F.split(answers_sdf.value, ' ')[0].alias('from_node').cast('integer'),\n",
    "    F.split(answers_sdf.value, ' ')[1].alias('to_node').cast('integer'),\n",
    "    F.split(answers_sdf.value, ' ')[2].alias('timestamp').cast('integer'))\n",
    "comments_answers_sdf = comments_answers_sdf.select(\n",
    "    F.split(comments_answers_sdf.value, ' ')[0].alias('from_node').cast('integer'),\n",
    "    F.split(comments_answers_sdf.value, ' ')[1].alias('to_node').cast('integer'),\n",
    "    F.split(comments_answers_sdf.value, ' ')[2].alias('timestamp').cast('integer'))\n",
    "comments_questions_sdf = comments_questions_sdf.select(\n",
    "    F.split(comments_questions_sdf.value, ' ')[0].alias('from_node').cast('integer'),\n",
    "    F.split(comments_questions_sdf.value, ' ')[1].alias('to_node').cast('integer'),\n",
    "    F.split(comments_questions_sdf.value, ' ')[2].alias('timestamp').cast('integer'))\n",
    "\n",
    "# Add columns with literal values\n",
    "answers_sdf            = answers_sdf.withColumn('edge_type', F.lit('answer'))\n",
    "comments_questions_sdf = comments_questions_sdf.withColumn('edge_type', F.lit('comment-on-question'))\n",
    "comments_answers_sdf   = comments_answers_sdf.withColumn('edge_type', F.lit('comment-on-answer'))\n",
    "\n",
    "# Create a single Spark DataFrame 'graph_sdf' with unionAll\n",
    "graph_sdf = answers_sdf.unionAll(comments_questions_sdf).unionAll(comments_answers_sdf)"
   ]
  },
  {
   "cell_type": "markdown",
   "metadata": {},
   "source": [
    "## Step 2.3 Results"
   ]
  },
  {
   "cell_type": "code",
   "execution_count": 15,
   "metadata": {},
   "outputs": [
    {
     "data": {
      "text/plain": [
       "17823525"
      ]
     },
     "execution_count": 15,
     "metadata": {},
     "output_type": "execute_result"
    }
   ],
   "source": [
    "answers_sdf.count()"
   ]
  },
  {
   "cell_type": "code",
   "execution_count": 16,
   "metadata": {},
   "outputs": [
    {
     "name": "stdout",
     "output_type": "stream",
     "text": [
      "+---------+-------+----------+---------+\n",
      "|from_node|to_node| timestamp|edge_type|\n",
      "+---------+-------+----------+---------+\n",
      "|        9|      8|1217567877|   answer|\n",
      "|        1|      1|1217573801|   answer|\n",
      "|       13|      1|1217606247|   answer|\n",
      "|       17|      1|1217617639|   answer|\n",
      "|       48|      2|1217618182|   answer|\n",
      "+---------+-------+----------+---------+\n",
      "only showing top 5 rows\n",
      "\n"
     ]
    }
   ],
   "source": [
    "answers_sdf.show(5)"
   ]
  },
  {
   "cell_type": "code",
   "execution_count": 17,
   "metadata": {},
   "outputs": [
    {
     "name": "stdout",
     "output_type": "stream",
     "text": [
      "root\n",
      " |-- from_node: integer (nullable = true)\n",
      " |-- to_node: integer (nullable = true)\n",
      " |-- timestamp: integer (nullable = true)\n",
      " |-- edge_type: string (nullable = false)\n",
      "\n"
     ]
    }
   ],
   "source": [
    "answers_sdf.printSchema()"
   ]
  },
  {
   "cell_type": "code",
   "execution_count": 18,
   "metadata": {},
   "outputs": [
    {
     "data": {
      "text/plain": [
       "25405374"
      ]
     },
     "execution_count": 18,
     "metadata": {},
     "output_type": "execute_result"
    }
   ],
   "source": [
    "comments_answers_sdf.count()"
   ]
  },
  {
   "cell_type": "code",
   "execution_count": 19,
   "metadata": {},
   "outputs": [
    {
     "name": "stdout",
     "output_type": "stream",
     "text": [
      "+---------+-------+----------+-----------------+\n",
      "|from_node|to_node| timestamp|        edge_type|\n",
      "+---------+-------+----------+-----------------+\n",
      "|        1|     91|1220713630|comment-on-answer|\n",
      "|        3|     91|1220713792|comment-on-answer|\n",
      "|      380|    350|1220715736|comment-on-answer|\n",
      "|     4642|   2257|1220734307|comment-on-answer|\n",
      "|     4642|1324220|1220735746|comment-on-answer|\n",
      "+---------+-------+----------+-----------------+\n",
      "only showing top 5 rows\n",
      "\n"
     ]
    }
   ],
   "source": [
    "comments_answers_sdf.show(5)"
   ]
  },
  {
   "cell_type": "code",
   "execution_count": 20,
   "metadata": {},
   "outputs": [
    {
     "name": "stdout",
     "output_type": "stream",
     "text": [
      "root\n",
      " |-- from_node: integer (nullable = true)\n",
      " |-- to_node: integer (nullable = true)\n",
      " |-- timestamp: integer (nullable = true)\n",
      " |-- edge_type: string (nullable = false)\n",
      "\n"
     ]
    }
   ],
   "source": [
    "comments_answers_sdf.printSchema()"
   ]
  },
  {
   "cell_type": "code",
   "execution_count": 21,
   "metadata": {},
   "outputs": [
    {
     "data": {
      "text/plain": [
       "20268151"
      ]
     },
     "execution_count": 21,
     "metadata": {},
     "output_type": "execute_result"
    }
   ],
   "source": [
    " comments_questions_sdf.count()"
   ]
  },
  {
   "cell_type": "code",
   "execution_count": 22,
   "metadata": {},
   "outputs": [
    {
     "name": "stdout",
     "output_type": "stream",
     "text": [
      "+---------+-------+----------+-------------------+\n",
      "|from_node|to_node| timestamp|          edge_type|\n",
      "+---------+-------+----------+-------------------+\n",
      "|     4550|   4550|1220729190|comment-on-question|\n",
      "|      242|    184|1220733503|comment-on-question|\n",
      "|     4213|   4946|1220768149|comment-on-question|\n",
      "|       91|     91|1220768295|comment-on-question|\n",
      "|     2658|   1874|1220771891|comment-on-question|\n",
      "+---------+-------+----------+-------------------+\n",
      "only showing top 5 rows\n",
      "\n"
     ]
    }
   ],
   "source": [
    "comments_questions_sdf.show(5)"
   ]
  },
  {
   "cell_type": "code",
   "execution_count": 23,
   "metadata": {},
   "outputs": [
    {
     "name": "stdout",
     "output_type": "stream",
     "text": [
      "root\n",
      " |-- from_node: integer (nullable = true)\n",
      " |-- to_node: integer (nullable = true)\n",
      " |-- timestamp: integer (nullable = true)\n",
      " |-- edge_type: string (nullable = false)\n",
      "\n"
     ]
    }
   ],
   "source": [
    "comments_questions_sdf.printSchema()"
   ]
  },
  {
   "cell_type": "code",
   "execution_count": 24,
   "metadata": {},
   "outputs": [
    {
     "data": {
      "text/plain": [
       "63497050"
      ]
     },
     "execution_count": 24,
     "metadata": {},
     "output_type": "execute_result"
    }
   ],
   "source": [
    "graph_sdf.count()"
   ]
  },
  {
   "cell_type": "code",
   "execution_count": 25,
   "metadata": {},
   "outputs": [
    {
     "name": "stdout",
     "output_type": "stream",
     "text": [
      "+---------+-------+----------+---------+\n",
      "|from_node|to_node| timestamp|edge_type|\n",
      "+---------+-------+----------+---------+\n",
      "|        9|      8|1217567877|   answer|\n",
      "|        1|      1|1217573801|   answer|\n",
      "|       13|      1|1217606247|   answer|\n",
      "|       17|      1|1217617639|   answer|\n",
      "|       48|      2|1217618182|   answer|\n",
      "+---------+-------+----------+---------+\n",
      "only showing top 5 rows\n",
      "\n"
     ]
    }
   ],
   "source": [
    "graph_sdf.show(5)"
   ]
  },
  {
   "cell_type": "code",
   "execution_count": 26,
   "metadata": {},
   "outputs": [
    {
     "name": "stdout",
     "output_type": "stream",
     "text": [
      "root\n",
      " |-- from_node: integer (nullable = true)\n",
      " |-- to_node: integer (nullable = true)\n",
      " |-- timestamp: integer (nullable = true)\n",
      " |-- edge_type: string (nullable = false)\n",
      "\n"
     ]
    }
   ],
   "source": [
    "graph_sdf.printSchema()"
   ]
  },
  {
   "cell_type": "markdown",
   "metadata": {},
   "source": [
    "## Step 2.4"
   ]
  },
  {
   "cell_type": "code",
   "execution_count": 27,
   "metadata": {},
   "outputs": [],
   "source": [
    "# You may put any computations you need here\n",
    "\n",
    "from pyspark.sql.functions import *\n",
    "\n",
    "# (1) Top 10 users by number of questions\n",
    "top_users_q = graph_sdf.groupBy('to_node').count().orderBy('count', ascending = False)\n",
    "\n",
    "# Follow the schema  (user, ansCounts)\n",
    "top_users_q = top_users_q.withColumnRenamed('to_node', 'user')\n",
    "top_users_q = top_users_q.withColumnRenamed('count', 'ansCounts')\n",
    "\n",
    "# (2) Top 10 users by number of answers to questions by distinct users\n",
    "ix_ans = graph_sdf.edge_type == 'answer'\n",
    "top_users_a = graph_sdf.filter(ix_ans).groupBy('from_node').agg(countDistinct('to_node'))\n",
    "\n",
    "# Follow the schema  (user, ansCounts)\n",
    "top_users_a = top_users_a.withColumnRenamed('from_node', 'user')\n",
    "top_users_a = top_users_a.withColumnRenamed('count(DISTINCT to_node)', 'ansCounts')\n",
    "top_users_a = top_users_a.sort('ansCounts',ascending = False)\n",
    "\n",
    "# (3) Ignored Users\n",
    "has_comments = comments_answers_sdf.distinct().select(\"to_node\")\n",
    "has_answers  = answers_sdf.distinct().select(\"to_node\")\n",
    "ignored_q = has_comments.subtract(has_answers).distinct()\n",
    "ignored_count = ignored_q.count()\n",
    "\n",
    "# (4) Most helpful pairs\n",
    "# Remove self-answered rows (1,119,931)\n",
    "answers_f_sdf = answers_sdf.filter(answers_sdf.to_node != answers_sdf.from_node)\n",
    "\n",
    "# Order by (A, B or B , A)\n",
    "pairs_sdf = answers_f_sdf.groupBy([\"to_node\", \"from_node\"]).count().orderBy('count', ascending = False)\n",
    "\n",
    "# Follow the schema  (user1, user2, ansCounts)\n",
    "pairs_sdf = pairs_sdf.withColumnRenamed('to_node', 'user1')\n",
    "pairs_sdf = pairs_sdf.withColumnRenamed('from_node', 'user2')\n",
    "pairs_sdf = pairs_sdf.withColumnRenamed('count', 'ansCounts')"
   ]
  },
  {
   "cell_type": "markdown",
   "metadata": {},
   "source": [
    "## Step 2.4.1 Results"
   ]
  },
  {
   "cell_type": "code",
   "execution_count": 28,
   "metadata": {},
   "outputs": [
    {
     "name": "stdout",
     "output_type": "stream",
     "text": [
      "+-------+---------+\n",
      "|   user|ansCounts|\n",
      "+-------+---------+\n",
      "|  22656|    93143|\n",
      "| 548225|    54410|\n",
      "|  29407|    45824|\n",
      "| 157882|    39576|\n",
      "|1144035|    38909|\n",
      "| 100297|    37752|\n",
      "| 505088|    36626|\n",
      "| 115145|    35411|\n",
      "|   6309|    32059|\n",
      "|  23354|    28557|\n",
      "+-------+---------+\n",
      "only showing top 10 rows\n",
      "\n"
     ]
    }
   ],
   "source": [
    "# TODO: output dataframe with top 10 users by number of questions\n",
    "top_users_q.show(10)"
   ]
  },
  {
   "cell_type": "code",
   "execution_count": 29,
   "metadata": {},
   "outputs": [
    {
     "name": "stdout",
     "output_type": "stream",
     "text": [
      "+-------+---------+\n",
      "|   user|ansCounts|\n",
      "+-------+---------+\n",
      "|  22656|    22860|\n",
      "|1144035|    21032|\n",
      "| 548225|    14127|\n",
      "|  29407|    13043|\n",
      "| 115145|    12243|\n",
      "|  19068|    12114|\n",
      "| 100297|    11486|\n",
      "|  34397|    11368|\n",
      "|  17034|    11347|\n",
      "|   6309|    11057|\n",
      "+-------+---------+\n",
      "only showing top 10 rows\n",
      "\n"
     ]
    }
   ],
   "source": [
    "# TODO: output top 10 users by number of answers to questions by distinct users\n",
    "top_users_a.show(10)"
   ]
  },
  {
   "cell_type": "markdown",
   "metadata": {},
   "source": [
    "## Step 2.4.2 Results"
   ]
  },
  {
   "cell_type": "code",
   "execution_count": 30,
   "metadata": {},
   "outputs": [
    {
     "data": {
      "text/plain": [
       "288765"
      ]
     },
     "execution_count": 30,
     "metadata": {},
     "output_type": "execute_result"
    }
   ],
   "source": [
    "# TODO: number of users whose questions have been commented on but never been answered.\n",
    "ignored_count"
   ]
  },
  {
   "cell_type": "markdown",
   "metadata": {},
   "source": [
    "## Step 2.4.3 Results"
   ]
  },
  {
   "cell_type": "code",
   "execution_count": 31,
   "metadata": {},
   "outputs": [
    {
     "name": "stdout",
     "output_type": "stream",
     "text": [
      "+------+-------+---------+\n",
      "| user2|  user1|ansCounts|\n",
      "+------+-------+---------+\n",
      "|315935| 742402|      155|\n",
      "|217408|2258442|      105|\n",
      "|  6309| 399145|       81|\n",
      "|157882|1391249|       78|\n",
      "|157882| 240337|       76|\n",
      "|  6309| 470184|       76|\n",
      "| 91299| 167454|       73|\n",
      "|505088|  46207|       72|\n",
      "|505088| 988445|       69|\n",
      "| 15168| 366797|       63|\n",
      "+------+-------+---------+\n",
      "only showing top 10 rows\n",
      "\n"
     ]
    }
   ],
   "source": [
    "# TODO: top 10 pairs of users by mutual answers, along with the number of questions they have mutually answered\n",
    "pairs_sdf.show(10)"
   ]
  },
  {
   "cell_type": "markdown",
   "metadata": {},
   "source": [
    "# Step 3"
   ]
  },
  {
   "cell_type": "code",
   "execution_count": 32,
   "metadata": {},
   "outputs": [],
   "source": [
    "# TODO: Fill in according to HW spec\n",
    "highest_indegree_sdf = graph_sdf.groupBy('to_node').count().orderBy('count',ascending = False)\n",
    "highest_indegree_sdf = highest_indegree_sdf.withColumnRenamed('to_node', 'node')\n",
    "highest_indegree_sdf = highest_indegree_sdf.withColumnRenamed('count', 'indegree')\n",
    "\n",
    "highest_outdegree_sdf = graph_sdf.groupBy('from_node').count().orderBy('count',ascending = False)\n",
    "highest_outdegree_sdf = highest_outdegree_sdf.withColumnRenamed('from_node', 'node')\n",
    "highest_outdegree_sdf = highest_outdegree_sdf.withColumnRenamed('count', 'outdegree')"
   ]
  },
  {
   "cell_type": "markdown",
   "metadata": {},
   "source": [
    "## Step 3 Results"
   ]
  },
  {
   "cell_type": "code",
   "execution_count": 33,
   "metadata": {},
   "outputs": [
    {
     "name": "stdout",
     "output_type": "stream",
     "text": [
      "+-------+--------+\n",
      "|   node|indegree|\n",
      "+-------+--------+\n",
      "|  22656|   93143|\n",
      "| 548225|   54410|\n",
      "|  29407|   45824|\n",
      "| 157882|   39576|\n",
      "|1144035|   38909|\n",
      "+-------+--------+\n",
      "only showing top 5 rows\n",
      "\n"
     ]
    }
   ],
   "source": [
    "highest_indegree_sdf.show(5)"
   ]
  },
  {
   "cell_type": "code",
   "execution_count": 34,
   "metadata": {},
   "outputs": [
    {
     "name": "stdout",
     "output_type": "stream",
     "text": [
      "+-------+---------+\n",
      "|   node|outdegree|\n",
      "+-------+---------+\n",
      "|  22656|   101663|\n",
      "| 505088|    65522|\n",
      "|  17034|    65260|\n",
      "|1491895|    62746|\n",
      "| 100297|    54330|\n",
      "+-------+---------+\n",
      "only showing top 5 rows\n",
      "\n"
     ]
    }
   ],
   "source": [
    "highest_outdegree_sdf.show(5)"
   ]
  },
  {
   "cell_type": "markdown",
   "metadata": {},
   "source": [
    "## Step 4"
   ]
  },
  {
   "cell_type": "code",
   "execution_count": 49,
   "metadata": {},
   "outputs": [],
   "source": [
    "#\n",
    "# Step 4.1 Pre-processing\n",
    "#\n",
    "\n",
    "\n",
    "def spark_bfs(G, origins, max_depth):\n",
    "    schema = StructType([\n",
    "        StructField('node', IntegerType(), True)\n",
    "    ])\n",
    "    \n",
    "    frontier_sdf = spark.createDataFrame(origins, schema).cache()\n",
    "    return_sdf = frontier_sdf.select(col('node')).withColumn('depth', lit('0'))\n",
    "\n",
    "    # Divide into shards for performance purposes\n",
    "    G.cache().repartition(100,'from_node')\n",
    "\n",
    "    # Initialize to enable SQL\n",
    "    G.createOrReplaceTempView('G')\n",
    "    frontier_sdf.createOrReplaceTempView('frontier_sdf')\n",
    "    return_sdf.createOrReplaceTempView('return_sdf')\n",
    "    visited_sdf = frontier_sdf.cache()\n",
    "\n",
    "    i = 0\n",
    "    while i < max_depth:\n",
    "        if i > 0:\n",
    "            visited_sdf = visited_sdf.unionAll(frontier_sdf).cache()\n",
    "\n",
    "        visited_sdf.createOrReplaceTempView('visited_sdf')\n",
    "        G.createOrReplaceTempView('G')\n",
    "        frontier_sdf.createOrReplaceTempView('frontier_sdf')\n",
    "\n",
    "        # Find new frontier nodes\n",
    "        frontier_sdf = frontier_sdf.join(G,frontier_sdf.node == G.from_node, 'inner')\n",
    "        to_join = frontier_sdf.select('to_node')\n",
    "        frontier_sdf = to_join.join(visited_sdf, to_join.to_node == visited_sdf.node, 'leftanti').cache()\n",
    "\n",
    "        # update return_sdf\n",
    "        to_append = frontier_sdf.select('to_node')\n",
    "        to_append = to_append.withColumn('depth', lit(i + 1))\n",
    "        return_sdf = return_sdf.unionAll(to_append)\n",
    "        return_sdf.createOrReplaceTempView('return_sdf')\n",
    "        # Fix frontier column name\n",
    "        frontier_sdf = frontier_sdf.select(col('to_node').alias('node'))\n",
    "        i = i + 1\n",
    "        \n",
    "    return return_sdf"
   ]
  },
  {
   "cell_type": "markdown",
   "metadata": {},
   "source": [
    "## Step 4.1"
   ]
  },
  {
   "cell_type": "code",
   "execution_count": 50,
   "metadata": {},
   "outputs": [
    {
     "data": {
      "text/plain": [
       "397"
      ]
     },
     "execution_count": 50,
     "metadata": {},
     "output_type": "execute_result"
    }
   ],
   "source": [
    "# TODO: comment out this line once your code is ready\n",
    "bfs_sdf = spark.createDataFrame([{'node': 123, 'depth': 1}, {'node': 456, 'depth': 2}])\n",
    "\n",
    "# TODO: enable this once your code is ready\n",
    "origin_map = [{'node': 4550}, {'node': 242}]\n",
    "bfs_sdf = spark_bfs(comments_questions_sdf, origin_map, 2)\n",
    "bfs_sdf.count()"
   ]
  },
  {
   "cell_type": "markdown",
   "metadata": {},
   "source": [
    "## Step 4.1 Results"
   ]
  },
  {
   "cell_type": "code",
   "execution_count": 43,
   "metadata": {},
   "outputs": [
    {
     "name": "stdout",
     "output_type": "stream",
     "text": [
      "+-------+-----+\n",
      "|   node|depth|\n",
      "+-------+-----+\n",
      "|   4550|    0|\n",
      "|    242|    0|\n",
      "|1619254|    1|\n",
      "|2332659|    1|\n",
      "|5504881|    1|\n",
      "|1139389|    1|\n",
      "|1940564|    1|\n",
      "| 818089|    1|\n",
      "|3047450|    1|\n",
      "|4773326|    1|\n",
      "+-------+-----+\n",
      "only showing top 10 rows\n",
      "\n"
     ]
    }
   ],
   "source": [
    "bfs_sdf.show(10)"
   ]
  },
  {
   "cell_type": "markdown",
   "metadata": {},
   "source": [
    "## Step 4.2"
   ]
  },
  {
   "cell_type": "code",
   "execution_count": 115,
   "metadata": {},
   "outputs": [],
   "source": [
    "#\n",
    "# Step 4.2 Pre-processing\n",
    "#\n",
    "\n",
    "bfs_sdf.createOrReplaceTempView('bfs_sdf')\n",
    "filtered_bfs_sdf = bfs_sdf.filter(\"depth == 2\").groupBy(bfs_sdf.node)\n",
    "filtered_bfs_sdf = filtered_bfs_sdf.count().filter(\"count > 1\").select(\"node\")\n",
    "\n",
    "def filter_sdf(sdf):\n",
    "    a, b = sdf, sdf\n",
    "    a.createOrReplaceTempView('a')\n",
    "    b.createOrReplaceTempView('b')\n",
    "    query = 'SELECT a.from_node AS from_node, b.to_node AS to_node FROM a, b WHERE a.from_node != b.to_node' \n",
    "    return spark.sql(query)\n",
    "\n",
    "\n",
    "def friend_rec(filtered_bfs_sdf, graph_sdf):\n",
    "    filtered_bfs_sdf.createOrReplaceTempView('filtered_bfs_sdf')\n",
    "    graph_sdf.createOrReplaceTempView('graph_sdf')\n",
    "    \n",
    "    # Divide into shards for performance purposes\n",
    "    graph_sdf.cache().repartition(100,'from_node')\n",
    "\n",
    "    q1a = 'SELECT DISTINCT b.from_node, b.to_node FROM filtered_bfs_sdf a '\n",
    "    q1b = 'JOIN graph_sdf b ON a.node = b.from_node'\n",
    "    q2a = 'SELECT a.from_node, a.to_node FROM d_sdf a ' \n",
    "    q2b = 'WHERE a.to_node IN (SELECT b.node FROM filtered_bfs_sdf b)'\n",
    "    q1, q2 = q1a + q1b, q2a + q2b\n",
    "    d_sdf = spark.sql(q1).cache()\n",
    "\n",
    "    filtered_bfs_sdf.createOrReplaceTempView('filtered_bfs_sdf')\n",
    "    d_sdf.createOrReplaceTempView('d_sdf')\n",
    "    return filter_sdf(spark.sql(q2).cache())"
   ]
  },
  {
   "cell_type": "code",
   "execution_count": 116,
   "metadata": {},
   "outputs": [
    {
     "data": {
      "text/plain": [
       "1721"
      ]
     },
     "execution_count": 116,
     "metadata": {},
     "output_type": "execute_result"
    }
   ],
   "source": [
    "# TODO: comment this line out when your function works\n",
    "#friend_recommendations_sdf = spark.createDataFrame([\\\n",
    "                                                    #{'from_node': 123, 'to_node': 456}, \\\n",
    "                                                    #{'from_node': 456, 'to_node': 123}])\n",
    "\n",
    "\n",
    "# TODO: enable this when your function works\n",
    "friend_recommendations_sdf = friend_rec(filtered_bfs_sdf, comments_questions_sdf)\n",
    "friend_recommendations_sdf.count()"
   ]
  },
  {
   "cell_type": "markdown",
   "metadata": {},
   "source": [
    "## Step 4.2 Results"
   ]
  },
  {
   "cell_type": "code",
   "execution_count": 109,
   "metadata": {},
   "outputs": [
    {
     "name": "stdout",
     "output_type": "stream",
     "text": [
      "+---------+-------+\n",
      "|from_node|to_node|\n",
      "+---------+-------+\n",
      "|    63775|3565829|\n",
      "|    63775|  24872|\n",
      "|    63775|4899760|\n",
      "|    63775|2269511|\n",
      "|    63775| 503032|\n",
      "|    63775|1406214|\n",
      "|    63775|1038179|\n",
      "|    63775| 139605|\n",
      "|    63775|  46646|\n",
      "|    63775|  65120|\n",
      "|    63775|5947929|\n",
      "|    63775|  60602|\n",
      "|    63775| 102427|\n",
      "|    63775| 453447|\n",
      "|    63775|  21918|\n",
      "|    63775|  59017|\n",
      "|    63775|1218595|\n",
      "|    63775|1187554|\n",
      "|    63775|1061543|\n",
      "|    63775|  76028|\n",
      "+---------+-------+\n",
      "only showing top 20 rows\n",
      "\n"
     ]
    }
   ],
   "source": [
    "friend_recommendations_sdf.show()"
   ]
  },
  {
   "cell_type": "markdown",
   "metadata": {},
   "source": [
    "## Step 4.3: Graph visualization"
   ]
  },
  {
   "cell_type": "markdown",
   "metadata": {},
   "source": [
    "### Once you have excecuted the cells in Step 4.2 and you have friend_recommendations_sdf, lets create friend_recommendations_df using toPandas(). This creates an in-memory dataFrame that we can use to build the graph. Here we have used ('from_node','to_node') as column names in friend_recommendations_sdf, please change it to what you have used in yours."
   ]
  },
  {
   "cell_type": "code",
   "execution_count": 110,
   "metadata": {},
   "outputs": [],
   "source": [
    "import networkx as nx\n",
    "\n",
    "# TODO: create friend_graph NetworkX graph from friend_recommendations_df from friend_recommendations_sdf\n",
    "friends_df = friend_recommendations_sdf.toPandas()\n",
    "friend_graph = nx.from_pandas_dataframe(friends_df,'from_node','to_node')"
   ]
  },
  {
   "cell_type": "markdown",
   "metadata": {},
   "source": [
    "## Step 4.3 Results"
   ]
  },
  {
   "cell_type": "code",
   "execution_count": 111,
   "metadata": {},
   "outputs": [
    {
     "name": "stdout",
     "output_type": "stream",
     "text": [
      "Number of nodes (characters) in this graph is 41\n",
      "Number of edges in this graph is 820\n",
      "Graph diameter is 1\n"
     ]
    }
   ],
   "source": [
    "print (\"Number of nodes (characters) in this graph is\", friend_graph.order()) # number of nodes\n",
    "print (\"Number of edges in this graph is\", len(friend_graph.edges())) # number of edges\n",
    "print (\"Graph diameter is\", nx.diameter(friend_graph)) # maximum eccentricity"
   ]
  },
  {
   "cell_type": "code",
   "execution_count": 112,
   "metadata": {
    "scrolled": true
   },
   "outputs": [
    {
     "data": {
      "image/png": "[encoded data removed]",
      "text/plain": [
       "<matplotlib.figure.Figure at 0x7f9df6721048>"
      ]
     },
     "metadata": {},
     "output_type": "display_data"
    }
   ],
   "source": [
    " %matplotlib inline\n",
    " nx.draw(friend_graph)"
   ]
  },
  {
   "cell_type": "code",
   "execution_count": null,
   "metadata": {},
   "outputs": [],
   "source": []
  }
 ],
 "metadata": {
  "kernelspec": {
   "display_name": "Python 3",
   "language": "python",
   "name": "python3"
  },
  "language_info": {
   "codemirror_mode": {
    "name": "ipython",
    "version": 3
   },
   "file_extension": ".py",
   "mimetype": "text/x-python",
   "name": "python",
   "nbconvert_exporter": "python",
   "pygments_lexer": "ipython3",
   "version": "3.6.4"
  }
 },
 "nbformat": 4,
 "nbformat_minor": 2
}
